{
 "cells": [
  {
   "cell_type": "markdown",
   "metadata": {},
   "source": [
    "# Understand Your Data With Descriptive Statistics"
   ]
  },
  {
   "cell_type": "markdown",
   "metadata": {},
   "source": [
    "## Peek at Your Data"
   ]
  },
  {
   "cell_type": "code",
   "execution_count": 2,
   "metadata": {
    "collapsed": false
   },
   "outputs": [
    {
     "name": "stdout",
     "output_type": "stream",
     "text": [
      "    preg  plas  pres  skin  test  mass   pedi  age  class\n",
      "0      6   148    72    35     0  33.6  0.627   50      1\n",
      "1      1    85    66    29     0  26.6  0.351   31      0\n",
      "2      8   183    64     0     0  23.3  0.672   32      1\n",
      "3      1    89    66    23    94  28.1  0.167   21      0\n",
      "4      0   137    40    35   168  43.1  2.288   33      1\n",
      "5      5   116    74     0     0  25.6  0.201   30      0\n",
      "6      3    78    50    32    88  31.0  0.248   26      1\n",
      "7     10   115     0     0     0  35.3  0.134   29      0\n",
      "8      2   197    70    45   543  30.5  0.158   53      1\n",
      "9      8   125    96     0     0   0.0  0.232   54      1\n",
      "10     4   110    92     0     0  37.6  0.191   30      0\n",
      "11    10   168    74     0     0  38.0  0.537   34      1\n",
      "12    10   139    80     0     0  27.1  1.441   57      0\n",
      "13     1   189    60    23   846  30.1  0.398   59      1\n",
      "14     5   166    72    19   175  25.8  0.587   51      1\n",
      "15     7   100     0     0     0  30.0  0.484   32      1\n",
      "16     0   118    84    47   230  45.8  0.551   31      1\n",
      "17     7   107    74     0     0  29.6  0.254   31      1\n",
      "18     1   103    30    38    83  43.3  0.183   33      0\n",
      "19     1   115    70    30    96  34.6  0.529   32      1\n",
      "20     3   126    88    41   235  39.3  0.704   27      0\n",
      "21     8    99    84     0     0  35.4  0.388   50      0\n",
      "22     7   196    90     0     0  39.8  0.451   41      1\n",
      "23     9   119    80    35     0  29.0  0.263   29      1\n",
      "24    11   143    94    33   146  36.6  0.254   51      1\n",
      "25    10   125    70    26   115  31.1  0.205   41      1\n",
      "26     7   147    76     0     0  39.4  0.257   43      1\n",
      "27     1    97    66    15   140  23.2  0.487   22      0\n",
      "28    13   145    82    19   110  22.2  0.245   57      0\n",
      "29     5   117    92     0     0  34.1  0.337   38      0\n"
     ]
    }
   ],
   "source": [
    "\n",
    "from pandas import read_csv\n",
    "\n",
    "filename = \"pima-indians-diabetes.data.csv\"\n",
    "names = ['preg', 'plas', 'pres', 'skin', 'test', 'mass', 'pedi', 'age', 'class']\n",
    "\n",
    "data = read_csv(filename, names=names)\n",
    "peek = data.head(30)\n",
    "\n",
    "print(peek)"
   ]
  },
  {
   "cell_type": "markdown",
   "metadata": {},
   "source": [
    "## Dimensions of Your Data"
   ]
  },
  {
   "cell_type": "code",
   "execution_count": 3,
   "metadata": {
    "collapsed": false
   },
   "outputs": [
    {
     "name": "stdout",
     "output_type": "stream",
     "text": [
      "(768, 9)\n"
     ]
    }
   ],
   "source": [
    "from pandas import read_csv\n",
    "\n",
    "filename = \"pima-indians-diabetes.data.csv\"\n",
    "names = ['preg', 'plas', 'pres', 'skin', 'test', 'mass', 'pedi', 'age', 'class']\n",
    "\n",
    "data = read_csv(filename, names=names)\n",
    "\n",
    "print(data.shape)"
   ]
  },
  {
   "cell_type": "markdown",
   "metadata": {},
   "source": [
    "## Data Type For Each Attribute"
   ]
  },
  {
   "cell_type": "code",
   "execution_count": 6,
   "metadata": {
    "collapsed": false
   },
   "outputs": [
    {
     "name": "stdout",
     "output_type": "stream",
     "text": [
      "preg       int64\n",
      "plas       int64\n",
      "pres       int64\n",
      "skin       int64\n",
      "test       int64\n",
      "mass     float64\n",
      "pedi     float64\n",
      "age        int64\n",
      "class      int64\n",
      "dtype: object\n"
     ]
    }
   ],
   "source": [
    "from pandas import read_csv\n",
    "\n",
    "filename = \"pima-indians-diabetes.data.csv\"\n",
    "names = ['preg', 'plas', 'pres', 'skin', 'test', 'mass', 'pedi', 'age', 'class']\n",
    "\n",
    "data = read_csv(filename, names=names)\n",
    "\n",
    "types = data.dtypes\n",
    "\n",
    "print(types)"
   ]
  },
  {
   "cell_type": "markdown",
   "metadata": {},
   "source": [
    "## Descriptive Statistics"
   ]
  },
  {
   "cell_type": "code",
   "execution_count": 9,
   "metadata": {
    "collapsed": false
   },
   "outputs": [
    {
     "name": "stdout",
     "output_type": "stream",
     "text": [
      "          preg     plas     pres     skin     test     mass     pedi      age    class\n",
      "count  768.000  768.000  768.000  768.000  768.000  768.000  768.000  768.000  768.000\n",
      "mean     3.845  120.895   69.105   20.536   79.799   31.993    0.472   33.241    0.349\n",
      "std      3.370   31.973   19.356   15.952  115.244    7.884    0.331   11.760    0.477\n",
      "min      0.000    0.000    0.000    0.000    0.000    0.000    0.078   21.000    0.000\n",
      "25%      1.000   99.000   62.000    0.000    0.000   27.300    0.244   24.000    0.000\n",
      "50%      3.000  117.000   72.000   23.000   30.500   32.000    0.372   29.000    0.000\n",
      "75%      6.000  140.250   80.000   32.000  127.250   36.600    0.626   41.000    1.000\n",
      "max     17.000  199.000  122.000   99.000  846.000   67.100    2.420   81.000    1.000\n"
     ]
    }
   ],
   "source": [
    "from pandas import read_csv\n",
    "from pandas import set_option\n",
    "\n",
    "filename = \"pima-indians-diabetes.data.csv\"\n",
    "names = ['preg', 'plas', 'pres', 'skin', 'test', 'mass', 'pedi', 'age', 'class']\n",
    "\n",
    "data = read_csv(filename, names=names)\n",
    "\n",
    "set_option('display.width', 100)\n",
    "set_option('precision', 3)\n",
    "\n",
    "description = data.describe()\n",
    "print(description)"
   ]
  },
  {
   "cell_type": "markdown",
   "metadata": {},
   "source": [
    "## Class Distribution (Classification Only) "
   ]
  },
  {
   "cell_type": "code",
   "execution_count": 15,
   "metadata": {
    "collapsed": false
   },
   "outputs": [
    {
     "name": "stdout",
     "output_type": "stream",
     "text": [
      "class\n",
      "0    500\n",
      "1    268\n",
      "dtype: int64\n"
     ]
    }
   ],
   "source": [
    "from pandas import read_csv\n",
    "filename = \"pima-indians-diabetes.data.csv\"\n",
    "\n",
    "names = ['preg', 'plas', 'pres', 'skin', 'test', 'mass', 'pedi', 'age', 'class']\n",
    "data = read_csv(filename, names=names)\n",
    "\n",
    "class_count = data.groupby(\"class\").size()\n",
    "print(class_count)"
   ]
  },
  {
   "cell_type": "markdown",
   "metadata": {},
   "source": [
    "## Correlations Between Attributes"
   ]
  },
  {
   "cell_type": "code",
   "execution_count": 24,
   "metadata": {
    "collapsed": false
   },
   "outputs": [
    {
     "name": "stdout",
     "output_type": "stream",
     "text": [
      "       preg  plas  pres  skin  test  mass  pedi   age  class\n",
      "preg   1.00  0.13  0.14 -0.08 -0.07  0.02 -0.03  0.54   0.22\n",
      "plas   0.13  1.00  0.15  0.06  0.33  0.22  0.14  0.26   0.47\n",
      "pres   0.14  0.15  1.00  0.21  0.09  0.28  0.04  0.24   0.07\n",
      "skin  -0.08  0.06  0.21  1.00  0.44  0.39  0.18 -0.11   0.07\n",
      "test  -0.07  0.33  0.09  0.44  1.00  0.20  0.19 -0.04   0.13\n",
      "mass   0.02  0.22  0.28  0.39  0.20  1.00  0.14  0.04   0.29\n",
      "pedi  -0.03  0.14  0.04  0.18  0.19  0.14  1.00  0.03   0.17\n",
      "age    0.54  0.26  0.24 -0.11 -0.04  0.04  0.03  1.00   0.24\n",
      "class  0.22  0.47  0.07  0.07  0.13  0.29  0.17  0.24   1.00\n"
     ]
    }
   ],
   "source": [
    "from pandas import read_csv\n",
    "from pandas import set_option\n",
    "\n",
    "filename = \"pima-indians-diabetes.data.csv\"\n",
    "names = ['preg', 'plas', 'pres', 'skin', 'test', 'mass', 'pedi', 'age', 'class']\n",
    "\n",
    "data = read_csv(filename, names=names)\n",
    "set_option('display.width', 100)\n",
    "set_option('precision', 2)\n",
    "\n",
    "correlations = data.corr(method=\"pearson\")\n",
    "print(correlations)"
   ]
  },
  {
   "cell_type": "markdown",
   "metadata": {},
   "source": [
    "## Skew of Univariate Distributions"
   ]
  },
  {
   "cell_type": "code",
   "execution_count": 25,
   "metadata": {
    "collapsed": false
   },
   "outputs": [
    {
     "name": "stdout",
     "output_type": "stream",
     "text": [
      "preg     0.90\n",
      "plas     0.17\n",
      "pres    -1.84\n",
      "skin     0.11\n",
      "test     2.27\n",
      "mass    -0.43\n",
      "pedi     1.92\n",
      "age      1.13\n",
      "class    0.64\n",
      "dtype: float64\n"
     ]
    }
   ],
   "source": [
    "from pandas import read_csv\n",
    "\n",
    "filename = \"pima-indians-diabetes.data.csv\"\n",
    "names = ['preg', 'plas', 'pres', 'skin', 'test', 'mass', 'pedi', 'age', 'class']\n",
    "\n",
    "data = read_csv(filename, names=names)\n",
    "skew = data.skew()\n",
    "\n",
    "print(skew)"
   ]
  }
 ],
 "metadata": {
  "anaconda-cloud": {},
  "kernelspec": {
   "display_name": "Python [Root]",
   "language": "python",
   "name": "Python [Root]"
  },
  "language_info": {
   "codemirror_mode": {
    "name": "ipython",
    "version": 2
   },
   "file_extension": ".py",
   "mimetype": "text/x-python",
   "name": "python",
   "nbconvert_exporter": "python",
   "pygments_lexer": "ipython2",
   "version": "2.7.12"
  }
 },
 "nbformat": 4,
 "nbformat_minor": 0
}
